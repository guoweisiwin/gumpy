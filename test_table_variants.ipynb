{
 "cells": [
  {
   "cell_type": "code",
   "execution_count": 12,
   "metadata": {},
   "outputs": [
    {
     "name": "stdout",
     "output_type": "stream",
     "text": [
      "The autoreload extension is already loaded. To reload it, use:\n",
      "  %reload_ext autoreload\n"
     ]
    }
   ],
   "source": [
    "import pandas, copy, numpy,sys\n",
    "from gumpy.genome import Genome\n",
    "pandas.set_option('display.max_columns', 999)\n",
    "%load_ext autoreload\n",
    "%autoreload 2\n",
    "numpy.set_printoptions(threshold=sys.maxsize)"
   ]
  },
  {
   "cell_type": "code",
   "execution_count": 2,
   "metadata": {},
   "outputs": [],
   "source": [
    "\n",
    "TEST_CASE_DIR = \"tests/test-cases/\""
   ]
  },
  {
   "cell_type": "code",
   "execution_count": 3,
   "metadata": {},
   "outputs": [],
   "source": [
    "reference=Genome(genbank_file=\"config/NC_004148.2.gbk\",name=\"HMPV\")"
   ]
  },
  {
   "cell_type": "code",
   "execution_count": 4,
   "metadata": {},
   "outputs": [],
   "source": [
    "sample_01=copy.deepcopy(reference)\n",
    "sample_01.apply_vcf_file(vcf_file=TEST_CASE_DIR+\"01.vcf\",ignore_status=True,ignore_filter=True,metadata_fields=['GT_CONF','GT_CONF_PERCENTILE'])\n"
   ]
  },
  {
   "cell_type": "code",
   "execution_count": 5,
   "metadata": {},
   "outputs": [
    {
     "data": {
      "text/plain": [
       "['4687t>c', '4725t>c', '13333c>z', '13335t>a', '4730_indel', '4735_indel']"
      ]
     },
     "execution_count": 5,
     "metadata": {},
     "output_type": "execute_result"
    }
   ],
   "source": [
    "sample_01.list_variants_wrt(reference)"
   ]
  },
  {
   "cell_type": "code",
   "execution_count": 9,
   "metadata": {},
   "outputs": [],
   "source": [
    "df=sample_01.table_variants_wrt(reference)"
   ]
  },
  {
   "cell_type": "code",
   "execution_count": 10,
   "metadata": {},
   "outputs": [
    {
     "data": {
      "text/plain": [
       "Index(['VARIANT', 'REF', 'ALT', 'GENOME_INDEX', 'GENE', 'ELEMENT_TYPE',\n",
       "       'MUTATION_TYPE', 'POSITION', 'NUCLEOTIDE_NUMBER', 'AMINO_ACID_NUMBER',\n",
       "       'ASSOCIATED_WITH_GENE', 'IN_PROMOTER', 'IN_CDS', 'IS_SNP', 'IS_INDEL',\n",
       "       'IS_HET', 'IS_NULL', 'INDEL_LENGTH', 'INDEL_1', 'INDEL_2', 'COVERAGE',\n",
       "       'HET_VARIANT_0', 'HET_VARIANT_1', 'HET_COVERAGE_0', 'HET_COVERAGE_1',\n",
       "       'HET_INDEL_LENGTH_0', 'HET_INDEL_LENGTH_1', 'HET_REF', 'HET_ALT_0',\n",
       "       'HET_ALT_1'],\n",
       "      dtype='object')"
      ]
     },
     "execution_count": 10,
     "metadata": {},
     "output_type": "execute_result"
    }
   ],
   "source": [
    "df.columns"
   ]
  },
  {
   "cell_type": "code",
   "execution_count": 13,
   "metadata": {},
   "outputs": [
    {
     "data": {
      "text/html": [
       "<div>\n",
       "<style scoped>\n",
       "    .dataframe tbody tr th:only-of-type {\n",
       "        vertical-align: middle;\n",
       "    }\n",
       "\n",
       "    .dataframe tbody tr th {\n",
       "        vertical-align: top;\n",
       "    }\n",
       "\n",
       "    .dataframe thead th {\n",
       "        text-align: right;\n",
       "    }\n",
       "</style>\n",
       "<table border=\"1\" class=\"dataframe\">\n",
       "  <thead>\n",
       "    <tr style=\"text-align: right;\">\n",
       "      <th></th>\n",
       "      <th>VARIANT</th>\n",
       "      <th>REF</th>\n",
       "      <th>ALT</th>\n",
       "      <th>GENOME_INDEX</th>\n",
       "      <th>GENE</th>\n",
       "      <th>ELEMENT_TYPE</th>\n",
       "      <th>MUTATION_TYPE</th>\n",
       "      <th>POSITION</th>\n",
       "      <th>NUCLEOTIDE_NUMBER</th>\n",
       "      <th>AMINO_ACID_NUMBER</th>\n",
       "      <th>ASSOCIATED_WITH_GENE</th>\n",
       "      <th>IN_PROMOTER</th>\n",
       "      <th>IN_CDS</th>\n",
       "      <th>IS_SNP</th>\n",
       "      <th>IS_INDEL</th>\n",
       "      <th>IS_HET</th>\n",
       "      <th>IS_NULL</th>\n",
       "      <th>INDEL_LENGTH</th>\n",
       "      <th>INDEL_1</th>\n",
       "      <th>INDEL_2</th>\n",
       "      <th>COVERAGE</th>\n",
       "      <th>HET_VARIANT_0</th>\n",
       "      <th>HET_VARIANT_1</th>\n",
       "      <th>HET_COVERAGE_0</th>\n",
       "      <th>HET_COVERAGE_1</th>\n",
       "      <th>HET_INDEL_LENGTH_0</th>\n",
       "      <th>HET_INDEL_LENGTH_1</th>\n",
       "      <th>HET_REF</th>\n",
       "      <th>HET_ALT_0</th>\n",
       "      <th>HET_ALT_1</th>\n",
       "    </tr>\n",
       "  </thead>\n",
       "  <tbody>\n",
       "    <tr>\n",
       "      <td>0</td>\n",
       "      <td>t4687c</td>\n",
       "      <td>t</td>\n",
       "      <td>c</td>\n",
       "      <td>4687</td>\n",
       "      <td>M2</td>\n",
       "      <td>GENE</td>\n",
       "      <td>SNP</td>\n",
       "      <td>-37.0</td>\n",
       "      <td>-37.0</td>\n",
       "      <td>NaN</td>\n",
       "      <td>True</td>\n",
       "      <td>True</td>\n",
       "      <td>False</td>\n",
       "      <td>True</td>\n",
       "      <td>False</td>\n",
       "      <td>False</td>\n",
       "      <td>False</td>\n",
       "      <td>0</td>\n",
       "      <td>None</td>\n",
       "      <td>None</td>\n",
       "      <td>68</td>\n",
       "      <td></td>\n",
       "      <td></td>\n",
       "      <td>0</td>\n",
       "      <td>0</td>\n",
       "      <td>0</td>\n",
       "      <td>0</td>\n",
       "      <td></td>\n",
       "      <td></td>\n",
       "      <td></td>\n",
       "    </tr>\n",
       "    <tr>\n",
       "      <td>1</td>\n",
       "      <td>t4725c</td>\n",
       "      <td>t</td>\n",
       "      <td>c</td>\n",
       "      <td>4725</td>\n",
       "      <td>M2</td>\n",
       "      <td>GENE</td>\n",
       "      <td>SNP</td>\n",
       "      <td>1.0</td>\n",
       "      <td>2.0</td>\n",
       "      <td>1.0</td>\n",
       "      <td>True</td>\n",
       "      <td>False</td>\n",
       "      <td>True</td>\n",
       "      <td>True</td>\n",
       "      <td>False</td>\n",
       "      <td>False</td>\n",
       "      <td>False</td>\n",
       "      <td>0</td>\n",
       "      <td>None</td>\n",
       "      <td>None</td>\n",
       "      <td>68</td>\n",
       "      <td></td>\n",
       "      <td></td>\n",
       "      <td>0</td>\n",
       "      <td>0</td>\n",
       "      <td>0</td>\n",
       "      <td>0</td>\n",
       "      <td></td>\n",
       "      <td></td>\n",
       "      <td></td>\n",
       "    </tr>\n",
       "    <tr>\n",
       "      <td>2</td>\n",
       "      <td>c13333z</td>\n",
       "      <td>c</td>\n",
       "      <td>z</td>\n",
       "      <td>13333</td>\n",
       "      <td></td>\n",
       "      <td></td>\n",
       "      <td>SNP</td>\n",
       "      <td>NaN</td>\n",
       "      <td>NaN</td>\n",
       "      <td>NaN</td>\n",
       "      <td>True</td>\n",
       "      <td>False</td>\n",
       "      <td>False</td>\n",
       "      <td>True</td>\n",
       "      <td>False</td>\n",
       "      <td>True</td>\n",
       "      <td>False</td>\n",
       "      <td>0</td>\n",
       "      <td>None</td>\n",
       "      <td>None</td>\n",
       "      <td>119</td>\n",
       "      <td>a</td>\n",
       "      <td>g</td>\n",
       "      <td>68</td>\n",
       "      <td>51</td>\n",
       "      <td>0</td>\n",
       "      <td>0</td>\n",
       "      <td>t</td>\n",
       "      <td>a</td>\n",
       "      <td>g</td>\n",
       "    </tr>\n",
       "    <tr>\n",
       "      <td>3</td>\n",
       "      <td>t13335a</td>\n",
       "      <td>t</td>\n",
       "      <td>a</td>\n",
       "      <td>13335</td>\n",
       "      <td></td>\n",
       "      <td></td>\n",
       "      <td>SNP</td>\n",
       "      <td>NaN</td>\n",
       "      <td>NaN</td>\n",
       "      <td>NaN</td>\n",
       "      <td>True</td>\n",
       "      <td>False</td>\n",
       "      <td>False</td>\n",
       "      <td>True</td>\n",
       "      <td>False</td>\n",
       "      <td>False</td>\n",
       "      <td>False</td>\n",
       "      <td>0</td>\n",
       "      <td>None</td>\n",
       "      <td>None</td>\n",
       "      <td>68</td>\n",
       "      <td></td>\n",
       "      <td></td>\n",
       "      <td>0</td>\n",
       "      <td>0</td>\n",
       "      <td>0</td>\n",
       "      <td>0</td>\n",
       "      <td></td>\n",
       "      <td></td>\n",
       "      <td></td>\n",
       "    </tr>\n",
       "    <tr>\n",
       "      <td>4</td>\n",
       "      <td>4730_indel</td>\n",
       "      <td>cg</td>\n",
       "      <td>g</td>\n",
       "      <td>4730</td>\n",
       "      <td>M2</td>\n",
       "      <td>GENE</td>\n",
       "      <td>INDEL</td>\n",
       "      <td>7.0</td>\n",
       "      <td>7.0</td>\n",
       "      <td>3.0</td>\n",
       "      <td>True</td>\n",
       "      <td>False</td>\n",
       "      <td>True</td>\n",
       "      <td>False</td>\n",
       "      <td>True</td>\n",
       "      <td>False</td>\n",
       "      <td>False</td>\n",
       "      <td>-1</td>\n",
       "      <td>4730_del</td>\n",
       "      <td>4730_del_1</td>\n",
       "      <td>68</td>\n",
       "      <td></td>\n",
       "      <td></td>\n",
       "      <td>0</td>\n",
       "      <td>0</td>\n",
       "      <td>0</td>\n",
       "      <td>0</td>\n",
       "      <td></td>\n",
       "      <td></td>\n",
       "      <td></td>\n",
       "    </tr>\n",
       "    <tr>\n",
       "      <td>5</td>\n",
       "      <td>4735_indel</td>\n",
       "      <td>g</td>\n",
       "      <td>gcc</td>\n",
       "      <td>4735</td>\n",
       "      <td>M2</td>\n",
       "      <td>GENE</td>\n",
       "      <td>INDEL</td>\n",
       "      <td>12.0</td>\n",
       "      <td>12.0</td>\n",
       "      <td>4.0</td>\n",
       "      <td>True</td>\n",
       "      <td>False</td>\n",
       "      <td>True</td>\n",
       "      <td>False</td>\n",
       "      <td>True</td>\n",
       "      <td>False</td>\n",
       "      <td>False</td>\n",
       "      <td>2</td>\n",
       "      <td>4735_ins</td>\n",
       "      <td>4735_ins_2</td>\n",
       "      <td>68</td>\n",
       "      <td></td>\n",
       "      <td></td>\n",
       "      <td>0</td>\n",
       "      <td>0</td>\n",
       "      <td>0</td>\n",
       "      <td>0</td>\n",
       "      <td></td>\n",
       "      <td></td>\n",
       "      <td></td>\n",
       "    </tr>\n",
       "  </tbody>\n",
       "</table>\n",
       "</div>"
      ],
      "text/plain": [
       "      VARIANT REF  ALT  GENOME_INDEX GENE ELEMENT_TYPE MUTATION_TYPE  \\\n",
       "0      t4687c   t    c          4687   M2         GENE           SNP   \n",
       "1      t4725c   t    c          4725   M2         GENE           SNP   \n",
       "2     c13333z   c    z         13333                             SNP   \n",
       "3     t13335a   t    a         13335                             SNP   \n",
       "4  4730_indel  cg    g          4730   M2         GENE         INDEL   \n",
       "5  4735_indel   g  gcc          4735   M2         GENE         INDEL   \n",
       "\n",
       "   POSITION  NUCLEOTIDE_NUMBER  AMINO_ACID_NUMBER  ASSOCIATED_WITH_GENE  \\\n",
       "0     -37.0              -37.0                NaN                  True   \n",
       "1       1.0                2.0                1.0                  True   \n",
       "2       NaN                NaN                NaN                  True   \n",
       "3       NaN                NaN                NaN                  True   \n",
       "4       7.0                7.0                3.0                  True   \n",
       "5      12.0               12.0                4.0                  True   \n",
       "\n",
       "   IN_PROMOTER  IN_CDS  IS_SNP  IS_INDEL  IS_HET  IS_NULL  INDEL_LENGTH  \\\n",
       "0         True   False    True     False   False    False             0   \n",
       "1        False    True    True     False   False    False             0   \n",
       "2        False   False    True     False    True    False             0   \n",
       "3        False   False    True     False   False    False             0   \n",
       "4        False    True   False      True   False    False            -1   \n",
       "5        False    True   False      True   False    False             2   \n",
       "\n",
       "    INDEL_1     INDEL_2  COVERAGE HET_VARIANT_0 HET_VARIANT_1  HET_COVERAGE_0  \\\n",
       "0      None        None        68                                           0   \n",
       "1      None        None        68                                           0   \n",
       "2      None        None       119             a             g              68   \n",
       "3      None        None        68                                           0   \n",
       "4  4730_del  4730_del_1        68                                           0   \n",
       "5  4735_ins  4735_ins_2        68                                           0   \n",
       "\n",
       "   HET_COVERAGE_1  HET_INDEL_LENGTH_0  HET_INDEL_LENGTH_1 HET_REF HET_ALT_0  \\\n",
       "0               0                   0                   0                     \n",
       "1               0                   0                   0                     \n",
       "2              51                   0                   0       t         a   \n",
       "3               0                   0                   0                     \n",
       "4               0                   0                   0                     \n",
       "5               0                   0                   0                     \n",
       "\n",
       "  HET_ALT_1  \n",
       "0            \n",
       "1            \n",
       "2         g  \n",
       "3            \n",
       "4            \n",
       "5            "
      ]
     },
     "execution_count": 13,
     "metadata": {},
     "output_type": "execute_result"
    }
   ],
   "source": [
    "df"
   ]
  },
  {
   "cell_type": "code",
   "execution_count": null,
   "metadata": {},
   "outputs": [],
   "source": [
    "for i in sample_01.genome_sequence_metadata:\n",
    "    print(i)"
   ]
  },
  {
   "cell_type": "code",
   "execution_count": null,
   "metadata": {},
   "outputs": [],
   "source": [
    "def _infer_variant_table_booleans(row):\n",
    "    IS_SNP=False\n",
    "    IS_INDEL=False\n",
    "    IS_HET=False\n",
    "    IS_NULL=False\n",
    "    IN_PROMOTER=False\n",
    "    IN_CDS=False\n",
    "    if row[\"GENE\"] is None:\n",
    "        ASSOCIATED_WITH_GENE=False\n",
    "    else:\n",
    "        ASSOCIATED_WITH_GENE=True\n",
    "        if row[\"NUCLEOTIDE_NUMBER\"]<0:\n",
    "            IN_PROMOTER=True\n",
    "            IN_CDS=False\n",
    "        elif row[\"NUCLEOTIDE_NUMBER\"]>0:\n",
    "            IN_PROMOTER=False\n",
    "            IN_CDS=True\n",
    "    if \"indel\" in row[\"VARIANT\"]:\n",
    "        IS_INDEL=True\n",
    "    else:\n",
    "        IS_SNP=True\n",
    "    if IS_SNP:\n",
    "        alt=row[\"VARIANT\"][-1]\n",
    "        if alt==\"z\":\n",
    "            IS_HET=True\n",
    "        elif alt==\"x\":\n",
    "            IS_NULL=True\n",
    "    return(pandas.Series([IS_SNP,IS_INDEL,IS_HET,IS_NULL,ASSOCIATED_WITH_GENE,IN_PROMOTER,IN_CDS]))\n",
    "\n",
    "\n",
    "df[['IS_SNP','IS_INDEL','IS_HET','IS_NULL','ASSOCIATED_WITH_GENE','IN_PROMOTER','IN_CDS']]=df.apply(infer_fields,axis=1)\n",
    "df"
   ]
  },
  {
   "cell_type": "code",
   "execution_count": null,
   "metadata": {},
   "outputs": [],
   "source": [
    "m2=reference.genes['M2']"
   ]
  },
  {
   "cell_type": "code",
   "execution_count": null,
   "metadata": {},
   "outputs": [],
   "source": [
    "m2.index[:20]"
   ]
  },
  {
   "cell_type": "code",
   "execution_count": null,
   "metadata": {},
   "outputs": [],
   "source": [
    "m2.sequence[:20]"
   ]
  },
  {
   "cell_type": "code",
   "execution_count": null,
   "metadata": {},
   "outputs": [],
   "source": [
    "len(m2.sequence)"
   ]
  },
  {
   "cell_type": "code",
   "execution_count": null,
   "metadata": {},
   "outputs": [],
   "source": [
    "len(m2.index)"
   ]
  },
  {
   "cell_type": "code",
   "execution_count": null,
   "metadata": {},
   "outputs": [],
   "source": [
    "m2.cds_index_start"
   ]
  },
  {
   "cell_type": "code",
   "execution_count": null,
   "metadata": {},
   "outputs": [],
   "source": [
    "m2.codons"
   ]
  },
  {
   "cell_type": "code",
   "execution_count": null,
   "metadata": {},
   "outputs": [],
   "source": []
  }
 ],
 "metadata": {
  "kernelspec": {
   "display_name": "Python 3",
   "language": "python",
   "name": "python3"
  },
  "language_info": {
   "codemirror_mode": {
    "name": "ipython",
    "version": 3
   },
   "file_extension": ".py",
   "mimetype": "text/x-python",
   "name": "python",
   "nbconvert_exporter": "python",
   "pygments_lexer": "ipython3",
   "version": "3.5.6"
  }
 },
 "nbformat": 4,
 "nbformat_minor": 2
}

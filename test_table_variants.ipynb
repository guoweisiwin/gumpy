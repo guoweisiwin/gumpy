{
 "cells": [
  {
   "cell_type": "code",
   "execution_count": 19,
   "metadata": {},
   "outputs": [
    {
     "name": "stdout",
     "output_type": "stream",
     "text": [
      "The autoreload extension is already loaded. To reload it, use:\n",
      "  %reload_ext autoreload\n"
     ]
    }
   ],
   "source": [
    "import pandas, copy\n",
    "from gumpy.genome import Genome\n",
    "\n",
    "%load_ext autoreload\n",
    "%autoreload 2\n"
   ]
  },
  {
   "cell_type": "code",
   "execution_count": 20,
   "metadata": {},
   "outputs": [],
   "source": [
    "\n",
    "TEST_CASE_DIR = \"tests/test-cases/\""
   ]
  },
  {
   "cell_type": "code",
   "execution_count": 21,
   "metadata": {},
   "outputs": [],
   "source": [
    "reference=Genome(genbank_file=\"config/NC_004148.2.gbk\",name=\"HMPV\")"
   ]
  },
  {
   "cell_type": "code",
   "execution_count": 22,
   "metadata": {},
   "outputs": [],
   "source": [
    "sample_01=copy.deepcopy(reference)\n",
    "sample_01.apply_vcf_file(vcf_file=TEST_CASE_DIR+\"01.vcf\",ignore_status=True,ignore_filter=True,metadata_fields=['GT_CONF','GT_CONF_PERCENTILE'])\n"
   ]
  },
  {
   "cell_type": "code",
   "execution_count": 23,
   "metadata": {},
   "outputs": [
    {
     "data": {
      "text/plain": [
       "['4687t>c', '4725t>c', '4735_indel']"
      ]
     },
     "execution_count": 23,
     "metadata": {},
     "output_type": "execute_result"
    }
   ],
   "source": [
    "sample_01.list_variants_wrt(reference)"
   ]
  },
  {
   "cell_type": "code",
   "execution_count": 28,
   "metadata": {},
   "outputs": [
    {
     "name": "stdout",
     "output_type": "stream",
     "text": [
      "-37 -37\n",
      "2 1\n",
      "      VARIANT REF  ALT  GENOME_INDEX GENE  POSITION  NUCLEOTIDE_NUMBER  \\\n",
      "0     4687t>c   t    c          4687   M2       -37                -37   \n",
      "1     4725t>c   t    c          4725   M2         1                  2   \n",
      "2  4735_indel   t  ccc          4735   M2        12                 12   \n",
      "\n",
      "   AMINO_ACID_NUMBER  IS_SNP  IS_INDEL  INDEL_LENGTH ELEMENT_TYPE  \n",
      "0                NaN    True     False           NaN         GENE  \n",
      "1                1.0    True     False           NaN         GENE  \n",
      "2                4.0   False      True           2.0         GENE  \n"
     ]
    },
    {
     "data": {
      "text/html": [
       "<div>\n",
       "<style scoped>\n",
       "    .dataframe tbody tr th:only-of-type {\n",
       "        vertical-align: middle;\n",
       "    }\n",
       "\n",
       "    .dataframe tbody tr th {\n",
       "        vertical-align: top;\n",
       "    }\n",
       "\n",
       "    .dataframe thead th {\n",
       "        text-align: right;\n",
       "    }\n",
       "</style>\n",
       "<table border=\"1\" class=\"dataframe\">\n",
       "  <thead>\n",
       "    <tr style=\"text-align: right;\">\n",
       "      <th></th>\n",
       "      <th>VARIANT</th>\n",
       "      <th>REF</th>\n",
       "      <th>ALT</th>\n",
       "      <th>GENOME_INDEX</th>\n",
       "      <th>GENE</th>\n",
       "      <th>POSITION</th>\n",
       "      <th>NUCLEOTIDE_NUMBER</th>\n",
       "      <th>AMINO_ACID_NUMBER</th>\n",
       "      <th>IS_SNP</th>\n",
       "      <th>IS_INDEL</th>\n",
       "      <th>INDEL_LENGTH</th>\n",
       "      <th>ELEMENT_TYPE</th>\n",
       "    </tr>\n",
       "  </thead>\n",
       "  <tbody>\n",
       "    <tr>\n",
       "      <td>0</td>\n",
       "      <td>4687t&gt;c</td>\n",
       "      <td>t</td>\n",
       "      <td>c</td>\n",
       "      <td>4687</td>\n",
       "      <td>M2</td>\n",
       "      <td>-37</td>\n",
       "      <td>-37</td>\n",
       "      <td>NaN</td>\n",
       "      <td>True</td>\n",
       "      <td>False</td>\n",
       "      <td>NaN</td>\n",
       "      <td>GENE</td>\n",
       "    </tr>\n",
       "    <tr>\n",
       "      <td>1</td>\n",
       "      <td>4725t&gt;c</td>\n",
       "      <td>t</td>\n",
       "      <td>c</td>\n",
       "      <td>4725</td>\n",
       "      <td>M2</td>\n",
       "      <td>1</td>\n",
       "      <td>2</td>\n",
       "      <td>1.0</td>\n",
       "      <td>True</td>\n",
       "      <td>False</td>\n",
       "      <td>NaN</td>\n",
       "      <td>GENE</td>\n",
       "    </tr>\n",
       "    <tr>\n",
       "      <td>2</td>\n",
       "      <td>4735_indel</td>\n",
       "      <td>t</td>\n",
       "      <td>ccc</td>\n",
       "      <td>4735</td>\n",
       "      <td>M2</td>\n",
       "      <td>12</td>\n",
       "      <td>12</td>\n",
       "      <td>4.0</td>\n",
       "      <td>False</td>\n",
       "      <td>True</td>\n",
       "      <td>2.0</td>\n",
       "      <td>GENE</td>\n",
       "    </tr>\n",
       "  </tbody>\n",
       "</table>\n",
       "</div>"
      ],
      "text/plain": [
       "      VARIANT REF  ALT  GENOME_INDEX GENE  POSITION  NUCLEOTIDE_NUMBER  \\\n",
       "0     4687t>c   t    c          4687   M2       -37                -37   \n",
       "1     4725t>c   t    c          4725   M2         1                  2   \n",
       "2  4735_indel   t  ccc          4735   M2        12                 12   \n",
       "\n",
       "   AMINO_ACID_NUMBER  IS_SNP  IS_INDEL  INDEL_LENGTH ELEMENT_TYPE  \n",
       "0                NaN    True     False           NaN         GENE  \n",
       "1                1.0    True     False           NaN         GENE  \n",
       "2                4.0   False      True           2.0         GENE  "
      ]
     },
     "execution_count": 28,
     "metadata": {},
     "output_type": "execute_result"
    }
   ],
   "source": [
    "sample_01.table_variants_wrt(reference)"
   ]
  },
  {
   "cell_type": "code",
   "execution_count": 33,
   "metadata": {},
   "outputs": [],
   "source": [
    "m2=reference.genes['M2']"
   ]
  },
  {
   "cell_type": "code",
   "execution_count": 37,
   "metadata": {},
   "outputs": [
    {
     "data": {
      "text/plain": [
       "array([4687, 4688, 4689, 4690, 4691, 4692, 4693, 4694, 4695, 4696, 4697,\n",
       "       4698, 4699, 4700, 4701, 4702, 4703, 4704, 4705, 4706])"
      ]
     },
     "execution_count": 37,
     "metadata": {},
     "output_type": "execute_result"
    }
   ],
   "source": [
    "m2.index[:20]"
   ]
  },
  {
   "cell_type": "code",
   "execution_count": 38,
   "metadata": {},
   "outputs": [
    {
     "data": {
      "text/plain": [
       "array(['t', 't', 'a', 'a', 't', 't', 'a', 'a', 'a', 'a', 'a', 't', 'a',\n",
       "       'a', 'a', 'a', 't', 'a', 'a', 'a'], dtype='<U1')"
      ]
     },
     "execution_count": 38,
     "metadata": {},
     "output_type": "execute_result"
    }
   ],
   "source": [
    "m2.sequence[:20]"
   ]
  },
  {
   "cell_type": "code",
   "execution_count": 39,
   "metadata": {},
   "outputs": [
    {
     "data": {
      "text/plain": [
       "548"
      ]
     },
     "execution_count": 39,
     "metadata": {},
     "output_type": "execute_result"
    }
   ],
   "source": [
    "len(m2.sequence)"
   ]
  },
  {
   "cell_type": "code",
   "execution_count": 40,
   "metadata": {},
   "outputs": [
    {
     "data": {
      "text/plain": [
       "548"
      ]
     },
     "execution_count": 40,
     "metadata": {},
     "output_type": "execute_result"
    }
   ],
   "source": [
    "len(m2.index)"
   ]
  },
  {
   "cell_type": "code",
   "execution_count": 41,
   "metadata": {},
   "outputs": [
    {
     "data": {
      "text/plain": [
       "4724"
      ]
     },
     "execution_count": 41,
     "metadata": {},
     "output_type": "execute_result"
    }
   ],
   "source": [
    "m2.cds_index_start"
   ]
  },
  {
   "cell_type": "code",
   "execution_count": 42,
   "metadata": {},
   "outputs": [
    {
     "data": {
      "text/plain": [
       "array(['atg', 'tct', 'cgc', 'aag', 'gct', 'cca', 'tgc', 'aaa', 'tat',\n",
       "       'gaa', 'gtg', 'cgg', 'ggc', 'aaa', 'tgc', 'aac', 'aga', 'gga',\n",
       "       'agt', 'gag', 'tgt', 'aag', 'ttt', 'aac', 'cac', 'aat', 'tac',\n",
       "       'tgg', 'agt', 'tgg', 'cca', 'gat', 'aga', 'tac', 'tta', 'tta',\n",
       "       'ata', 'aga', 'tca', 'aac', 'tat', 'cta', 'tta', 'aat', 'cag',\n",
       "       'ctt', 'tta', 'agg', 'aac', 'act', 'gat', 'aga', 'gct', 'gat',\n",
       "       'ggc', 'cta', 'tca', 'ata', 'ata', 'tca', 'ggc', 'gca', 'ggc',\n",
       "       'aga', 'gaa', 'gac', 'aga', 'acg', 'caa', 'gat', 'ttt', 'gtt',\n",
       "       'cta', 'ggt', 'tcc', 'acc', 'aat', 'gtg', 'gtt', 'caa', 'ggt',\n",
       "       'tat', 'att', 'gat', 'gat', 'aac', 'caa', 'agc', 'ata', 'aca',\n",
       "       'aaa', 'gct', 'gca', 'gcc', 'tgc', 'tac', 'agt', 'cta', 'cac',\n",
       "       'aac', 'ata', 'atc', 'aag', 'caa', 'cta', 'caa', 'gaa', 'gtt',\n",
       "       'gaa', 'gtt', 'agg', 'cag', 'gct', 'aga', 'gat', 'agc', 'aaa',\n",
       "       'cta', 'tct', 'gac', 'agc', 'aag', 'cat', 'gtg', 'gca', 'ctc',\n",
       "       'cat', 'aac', 'tta', 'atc', 'tta', 'tct', 'tac', 'atg', 'gag',\n",
       "       'atg', 'agc', 'aaa', 'act', 'ccc', 'gca', 'tct', 'tta', 'atc',\n",
       "       'aac', 'aat', 'ctc', 'aaa', 'aga', 'ctg', 'ccg', 'aga', 'gaa',\n",
       "       'aaa', 'ctg', 'aaa', 'aaa', 'tta', 'gca', 'aag', 'ctg', 'ata',\n",
       "       'att', 'gac', 'tta', 'tca', 'gca', 'ggc', 'gct', 'gac'],\n",
       "      dtype='<U3')"
      ]
     },
     "execution_count": 42,
     "metadata": {},
     "output_type": "execute_result"
    }
   ],
   "source": [
    "m2.codons"
   ]
  },
  {
   "cell_type": "code",
   "execution_count": null,
   "metadata": {},
   "outputs": [],
   "source": []
  }
 ],
 "metadata": {
  "kernelspec": {
   "display_name": "Python 3",
   "language": "python",
   "name": "python3"
  },
  "language_info": {
   "codemirror_mode": {
    "name": "ipython",
    "version": 3
   },
   "file_extension": ".py",
   "mimetype": "text/x-python",
   "name": "python",
   "nbconvert_exporter": "python",
   "pygments_lexer": "ipython3",
   "version": "3.5.6"
  }
 },
 "nbformat": 4,
 "nbformat_minor": 2
}
